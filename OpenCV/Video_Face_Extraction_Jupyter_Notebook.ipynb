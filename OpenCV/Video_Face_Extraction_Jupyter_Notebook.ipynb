{
  "nbformat": 4,
  "nbformat_minor": 0,
  "metadata": {
    "colab": {
      "provenance": []
    },
    "kernelspec": {
      "name": "python3",
      "display_name": "Python 3"
    },
    "language_info": {
      "name": "python"
    }
  },
  "cells": [
    {
      "cell_type": "markdown",
      "source": [
        "<small>Click the \"LinkedIn\" badges above to connect with me on LinkedIn.</small>\n",
        "\n",
        "<small>[![LinkedIn](https://img.shields.io/badge/LinkedIn-Connect-blue?style=for-the-badge&logo=linkedin)](https://www.linkedin.com/in/antonis-zalonis-76628723)</small>\n"
      ],
      "metadata": {
        "id": "ULU0CZueT7QB"
      }
    },
    {
      "cell_type": "markdown",
      "source": [
        "# Video Face Extraction Jupyter Notebook"
      ],
      "metadata": {
        "id": "9IGC0kOWz2Ur"
      }
    },
    {
      "cell_type": "markdown",
      "source": [
        "Hi. I wanna a python program in .ipynb and openCV where can read a video and extract images with all the faces in the videos with image name the time where it captured in the video. Can you do that?"
      ],
      "metadata": {
        "id": "oY93UmtCz8p0"
      }
    },
    {
      "cell_type": "code",
      "execution_count": 1,
      "metadata": {
        "colab": {
          "base_uri": "https://localhost:8080/"
        },
        "id": "xqoBhj62zzey",
        "outputId": "d8d51dc0-e9fe-49bd-8964-03b578f531aa"
      },
      "outputs": [
        {
          "output_type": "stream",
          "name": "stdout",
          "text": [
            "Requirement already satisfied: opencv-python-headless in /usr/local/lib/python3.10/dist-packages (4.10.0.84)\n",
            "Requirement already satisfied: numpy>=1.21.2 in /usr/local/lib/python3.10/dist-packages (from opencv-python-headless) (1.26.4)\n"
          ]
        }
      ],
      "source": [
        "! pip install opencv-python-headless"
      ]
    },
    {
      "cell_type": "code",
      "source": [
        "# ! pip install opencv-python"
      ],
      "metadata": {
        "id": "zYk8rviD0Vj7"
      },
      "execution_count": 2,
      "outputs": []
    },
    {
      "cell_type": "code",
      "source": [
        "import cv2\n",
        "import os\n",
        "\n",
        "def extract_faces_from_video(video_path, output_dir, face_cascade_path):\n",
        "    # Create output directory if it doesn't exist\n",
        "    os.makedirs(output_dir, exist_ok=True)\n",
        "\n",
        "    # Load pre-trained face detection classifier\n",
        "    face_cascade = cv2.CascadeClassifier(face_cascade_path)\n",
        "\n",
        "    # Open the video\n",
        "    video = cv2.VideoCapture(video_path)\n",
        "\n",
        "    # Get video properties\n",
        "    fps = video.get(cv2.CAP_PROP_FPS)\n",
        "\n",
        "    # Counter for face images\n",
        "    face_count = 0\n",
        "\n",
        "    # Process video frames\n",
        "    while True:\n",
        "        # Read a frame\n",
        "        ret, frame = video.read()\n",
        "\n",
        "        # Break if no more frames\n",
        "        if not ret:\n",
        "            break\n",
        "\n",
        "        # Current frame timestamp\n",
        "        current_time = video.get(cv2.CAP_PROP_POS_MSEC) / 1000.0\n",
        "\n",
        "        # Convert frame to grayscale for face detection\n",
        "        gray = cv2.cvtColor(frame, cv2.COLOR_BGR2GRAY)\n",
        "\n",
        "        # Detect faces\n",
        "        faces = face_cascade.detectMultiScale(\n",
        "            gray,\n",
        "            scaleFactor=1.1,\n",
        "            minNeighbors=5,\n",
        "            minSize=(30, 30)\n",
        "        )\n",
        "\n",
        "        # Save each detected face\n",
        "        for (x, y, w, h) in faces:\n",
        "            # Extract face\n",
        "            face = frame[y:y+h, x:x+w]\n",
        "\n",
        "            # Generate filename with timestamp\n",
        "            filename = os.path.join(\n",
        "                output_dir,\n",
        "                f'face_{face_count}_at_{current_time:.2f}s.jpg'\n",
        "            )\n",
        "\n",
        "            # Save face image\n",
        "            cv2.imwrite(filename, face)\n",
        "\n",
        "            face_count += 1\n",
        "\n",
        "    # Release video capture\n",
        "    video.release()\n",
        "\n",
        "    print(f'Extracted {face_count} faces')"
      ],
      "metadata": {
        "id": "4GC4Q8fQ0bfW"
      },
      "execution_count": 3,
      "outputs": []
    },
    {
      "cell_type": "code",
      "source": [
        "# Download Haar Cascade classifier for face detection\n",
        "!wget https://raw.githubusercontent.com/opencv/opencv/master/data/haarcascades/haarcascade_frontalface_default.xml"
      ],
      "metadata": {
        "colab": {
          "base_uri": "https://localhost:8080/"
        },
        "id": "mh__Fvaq1Vn1",
        "outputId": "f7d37dc9-ea6a-4f13-8147-f69904874509"
      },
      "execution_count": 4,
      "outputs": [
        {
          "output_type": "stream",
          "name": "stdout",
          "text": [
            "--2024-12-11 22:27:24--  https://raw.githubusercontent.com/opencv/opencv/master/data/haarcascades/haarcascade_frontalface_default.xml\n",
            "Resolving raw.githubusercontent.com (raw.githubusercontent.com)... 185.199.108.133, 185.199.109.133, 185.199.110.133, ...\n",
            "Connecting to raw.githubusercontent.com (raw.githubusercontent.com)|185.199.108.133|:443... connected.\n",
            "HTTP request sent, awaiting response... 200 OK\n",
            "Length: 930127 (908K) [text/plain]\n",
            "Saving to: ‘haarcascade_frontalface_default.xml’\n",
            "\n",
            "haarcascade_frontal 100%[===================>] 908.33K  --.-KB/s    in 0.08s   \n",
            "\n",
            "2024-12-11 22:27:25 (10.7 MB/s) - ‘haarcascade_frontalface_default.xml’ saved [930127/930127]\n",
            "\n"
          ]
        }
      ]
    },
    {
      "cell_type": "code",
      "source": [
        "# Usage example\n",
        "# video_path = 'path/to/your/video.mp4'  # Replace with your video path\n",
        "video_path = 'Parelasi_mixali_28_10_2024.MOV'\n",
        "output_directory = 'extracted_faces'\n",
        "face_cascade_path = 'haarcascade_frontalface_default.xml'\n",
        "\n",
        "extract_faces_from_video(video_path, output_directory, face_cascade_path)"
      ],
      "metadata": {
        "colab": {
          "base_uri": "https://localhost:8080/"
        },
        "id": "6VMal4Vo1YYN",
        "outputId": "eca9ced0-e5a5-46d0-ca14-ced48986c06d"
      },
      "execution_count": 6,
      "outputs": [
        {
          "output_type": "stream",
          "name": "stdout",
          "text": [
            "Extracted 1920 faces\n"
          ]
        }
      ]
    },
    {
      "cell_type": "code",
      "source": [],
      "metadata": {
        "id": "RoECC0YJ1dth"
      },
      "execution_count": null,
      "outputs": []
    }
  ]
}