{
 "cells": [
  {
   "cell_type": "markdown",
   "metadata": {
    "id": "9IGC0kOWz2Ur"
   },
   "source": [
    "# Video Face Extraction Jupyter Notebook"
   ]
  },
  {
   "cell_type": "markdown",
   "metadata": {
    "id": "oY93UmtCz8p0"
   },
   "source": [
    "We want to exctract all the available human faces from a video. Instead of watching hours all the video to see who stole our house or who did a crime or for any reason, we can use this python application based on OpenCV and get the faces with the coresponded timeslot ;) "
   ]
  },
  {
   "cell_type": "code",
   "execution_count": 1,
   "metadata": {
    "colab": {
     "base_uri": "https://localhost:8080/"
    },
    "id": "xqoBhj62zzey",
    "outputId": "d8d51dc0-e9fe-49bd-8964-03b578f531aa"
   },
   "outputs": [
    {
     "name": "stdout",
     "output_type": "stream",
     "text": [
      "Requirement already satisfied: opencv-python-headless in /usr/local/lib/python3.10/dist-packages (4.10.0.84)\n",
      "Requirement already satisfied: numpy>=1.21.2 in /usr/local/lib/python3.10/dist-packages (from opencv-python-headless) (1.26.4)\n"
     ]
    }
   ],
   "source": [
    "! pip install opencv-python-headless"
   ]
  },
  {
   "cell_type": "code",
   "execution_count": 2,
   "metadata": {
    "id": "zYk8rviD0Vj7"
   },
   "outputs": [],
   "source": [
    "# ! pip install opencv-python"
   ]
  },
  {
   "cell_type": "code",
   "execution_count": 3,
   "metadata": {
    "id": "4GC4Q8fQ0bfW"
   },
   "outputs": [],
   "source": [
    "import cv2\n",
    "import os\n",
    "\n",
    "def extract_faces_from_video(video_path, output_dir, face_cascade_path):\n",
    "    # Create output directory if it doesn't exist\n",
    "    os.makedirs(output_dir, exist_ok=True)\n",
    "\n",
    "    # Load pre-trained face detection classifier\n",
    "    face_cascade = cv2.CascadeClassifier(face_cascade_path)\n",
    "\n",
    "    # Open the video\n",
    "    video = cv2.VideoCapture(video_path)\n",
    "\n",
    "    # Get video properties\n",
    "    fps = video.get(cv2.CAP_PROP_FPS)\n",
    "\n",
    "    # Counter for face images\n",
    "    face_count = 0\n",
    "\n",
    "    # Process video frames\n",
    "    while True:\n",
    "        # Read a frame\n",
    "        ret, frame = video.read()\n",
    "\n",
    "        # Break if no more frames\n",
    "        if not ret:\n",
    "            break\n",
    "\n",
    "        # Current frame timestamp\n",
    "        current_time = video.get(cv2.CAP_PROP_POS_MSEC) / 1000.0\n",
    "\n",
    "        # Convert frame to grayscale for face detection\n",
    "        gray = cv2.cvtColor(frame, cv2.COLOR_BGR2GRAY)\n",
    "\n",
    "        # Detect faces\n",
    "        faces = face_cascade.detectMultiScale(\n",
    "            gray,\n",
    "            scaleFactor=1.1,\n",
    "            minNeighbors=5,\n",
    "            minSize=(30, 30)\n",
    "        )\n",
    "\n",
    "        # Save each detected face\n",
    "        for (x, y, w, h) in faces:\n",
    "            # Extract face\n",
    "            face = frame[y:y+h, x:x+w]\n",
    "\n",
    "            # Generate filename with timestamp\n",
    "            filename = os.path.join(\n",
    "                output_dir,\n",
    "                f'face_{face_count}_at_{current_time:.2f}s.jpg'\n",
    "            )\n",
    "\n",
    "            # Save face image\n",
    "            cv2.imwrite(filename, face)\n",
    "\n",
    "            face_count += 1\n",
    "\n",
    "    # Release video capture\n",
    "    video.release()\n",
    "\n",
    "    print(f'Extracted {face_count} faces')"
   ]
  },
  {
   "cell_type": "code",
   "execution_count": 4,
   "metadata": {
    "colab": {
     "base_uri": "https://localhost:8080/"
    },
    "id": "mh__Fvaq1Vn1",
    "outputId": "f7d37dc9-ea6a-4f13-8147-f69904874509"
   },
   "outputs": [
    {
     "name": "stdout",
     "output_type": "stream",
     "text": [
      "--2024-12-11 22:27:24--  https://raw.githubusercontent.com/opencv/opencv/master/data/haarcascades/haarcascade_frontalface_default.xml\n",
      "Resolving raw.githubusercontent.com (raw.githubusercontent.com)... 185.199.108.133, 185.199.109.133, 185.199.110.133, ...\n",
      "Connecting to raw.githubusercontent.com (raw.githubusercontent.com)|185.199.108.133|:443... connected.\n",
      "HTTP request sent, awaiting response... 200 OK\n",
      "Length: 930127 (908K) [text/plain]\n",
      "Saving to: ‘haarcascade_frontalface_default.xml’\n",
      "\n",
      "haarcascade_frontal 100%[===================>] 908.33K  --.-KB/s    in 0.08s   \n",
      "\n",
      "2024-12-11 22:27:25 (10.7 MB/s) - ‘haarcascade_frontalface_default.xml’ saved [930127/930127]\n",
      "\n"
     ]
    }
   ],
   "source": [
    "# Download Haar Cascade classifier for face detection\n",
    "!wget https://raw.githubusercontent.com/opencv/opencv/master/data/haarcascades/haarcascade_frontalface_default.xml"
   ]
  },
  {
   "cell_type": "code",
   "execution_count": null,
   "metadata": {
    "colab": {
     "base_uri": "https://localhost:8080/"
    },
    "id": "6VMal4Vo1YYN",
    "outputId": "eca9ced0-e5a5-46d0-ca14-ced48986c06d"
   },
   "outputs": [
    {
     "name": "stdout",
     "output_type": "stream",
     "text": [
      "Extracted 1920 faces\n"
     ]
    }
   ],
   "source": [
    "# example\n",
    "# OpenCV is designed to handle various video formats, including:\n",
    "# .MP4\n",
    "# .MOV\n",
    "# .AVI\n",
    "# .WMV\n",
    "# And many other common video formats\n",
    "\n",
    "# video_path = 'path/to/your/video.mp4' \n",
    "video_path = 'anyvideo.MOV'\n",
    "output_directory = 'extracted_faces'\n",
    "face_cascade_path = 'haarcascade_frontalface_default.xml'\n",
    "\n",
    "extract_faces_from_video(video_path, output_directory, face_cascade_path)"
   ]
  },
  {
   "cell_type": "code",
   "execution_count": null,
   "metadata": {
    "id": "RoECC0YJ1dth"
   },
   "outputs": [],
   "source": []
  }
 ],
 "metadata": {
  "colab": {
   "provenance": []
  },
  "kernelspec": {
   "display_name": "Python 3",
   "name": "python3"
  },
  "language_info": {
   "name": "python"
  }
 },
 "nbformat": 4,
 "nbformat_minor": 0
}
