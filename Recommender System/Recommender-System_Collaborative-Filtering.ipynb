{
 "cells": [
  {
   "cell_type": "code",
   "execution_count": 1,
   "id": "1228ca4b-f115-4a45-bc0c-26bab3b30fed",
   "metadata": {},
   "outputs": [],
   "source": [
    "# Import libraries\n",
    "import pandas as pd\n",
    "import numpy as np"
   ]
  },
  {
   "cell_type": "code",
   "execution_count": 3,
   "id": "a971e8a9-dd85-45e4-82ad-301f9572770d",
   "metadata": {},
   "outputs": [],
   "source": [
    "header = ['user_id','item_id', 'rating', 'timestamp']\n",
    "df = pd.read_csv('u.data', sep='\\t', names=header)"
   ]
  },
  {
   "cell_type": "code",
   "execution_count": 5,
   "id": "1c0db04d-481d-49ae-9588-e49f28ef18d5",
   "metadata": {},
   "outputs": [
    {
     "data": {
      "text/html": [
       "<div>\n",
       "<style scoped>\n",
       "    .dataframe tbody tr th:only-of-type {\n",
       "        vertical-align: middle;\n",
       "    }\n",
       "\n",
       "    .dataframe tbody tr th {\n",
       "        vertical-align: top;\n",
       "    }\n",
       "\n",
       "    .dataframe thead th {\n",
       "        text-align: right;\n",
       "    }\n",
       "</style>\n",
       "<table border=\"1\" class=\"dataframe\">\n",
       "  <thead>\n",
       "    <tr style=\"text-align: right;\">\n",
       "      <th></th>\n",
       "      <th>user_id</th>\n",
       "      <th>item_id</th>\n",
       "      <th>rating</th>\n",
       "      <th>timestamp</th>\n",
       "    </tr>\n",
       "  </thead>\n",
       "  <tbody>\n",
       "    <tr>\n",
       "      <th>0</th>\n",
       "      <td>196</td>\n",
       "      <td>242</td>\n",
       "      <td>3</td>\n",
       "      <td>881250949</td>\n",
       "    </tr>\n",
       "    <tr>\n",
       "      <th>1</th>\n",
       "      <td>186</td>\n",
       "      <td>302</td>\n",
       "      <td>3</td>\n",
       "      <td>891717742</td>\n",
       "    </tr>\n",
       "    <tr>\n",
       "      <th>2</th>\n",
       "      <td>22</td>\n",
       "      <td>377</td>\n",
       "      <td>1</td>\n",
       "      <td>878887116</td>\n",
       "    </tr>\n",
       "    <tr>\n",
       "      <th>3</th>\n",
       "      <td>244</td>\n",
       "      <td>51</td>\n",
       "      <td>2</td>\n",
       "      <td>880606923</td>\n",
       "    </tr>\n",
       "    <tr>\n",
       "      <th>4</th>\n",
       "      <td>166</td>\n",
       "      <td>346</td>\n",
       "      <td>1</td>\n",
       "      <td>886397596</td>\n",
       "    </tr>\n",
       "  </tbody>\n",
       "</table>\n",
       "</div>"
      ],
      "text/plain": [
       "   user_id  item_id  rating  timestamp\n",
       "0      196      242       3  881250949\n",
       "1      186      302       3  891717742\n",
       "2       22      377       1  878887116\n",
       "3      244       51       2  880606923\n",
       "4      166      346       1  886397596"
      ]
     },
     "execution_count": 5,
     "metadata": {},
     "output_type": "execute_result"
    }
   ],
   "source": [
    "df.head()"
   ]
  },
  {
   "cell_type": "code",
   "execution_count": 7,
   "id": "1e5bdb93-6cca-402c-8f63-62e6054f7d42",
   "metadata": {},
   "outputs": [
    {
     "name": "stdout",
     "output_type": "stream",
     "text": [
      "<class 'pandas.core.frame.DataFrame'>\n",
      "RangeIndex: 100000 entries, 0 to 99999\n",
      "Data columns (total 4 columns):\n",
      " #   Column     Non-Null Count   Dtype\n",
      "---  ------     --------------   -----\n",
      " 0   user_id    100000 non-null  int64\n",
      " 1   item_id    100000 non-null  int64\n",
      " 2   rating     100000 non-null  int64\n",
      " 3   timestamp  100000 non-null  int64\n",
      "dtypes: int64(4)\n",
      "memory usage: 3.1 MB\n"
     ]
    }
   ],
   "source": [
    "df.info()"
   ]
  },
  {
   "cell_type": "code",
   "execution_count": 9,
   "id": "3784c103-eb33-4729-9e05-7e9a298fe49c",
   "metadata": {},
   "outputs": [
    {
     "name": "stdout",
     "output_type": "stream",
     "text": [
      "Number of users: 943 | Number of items: 1682\n"
     ]
    }
   ],
   "source": [
    "# Unique users and items\n",
    "u_users = df.user_id.unique().shape[0]\n",
    "u_items = df.item_id.unique().shape[0]\n",
    "print('Number of users: ' + str(u_users) + ' | Number of items: ' + str(u_items))"
   ]
  },
  {
   "cell_type": "code",
   "execution_count": 11,
   "id": "963cbae2-7f76-4879-923d-a2288c51a8a3",
   "metadata": {},
   "outputs": [],
   "source": [
    "# Split data to train and to test\n",
    "from sklearn.model_selection import train_test_split\n",
    "train_data, test_data = train_test_split(df, test_size=0.25)"
   ]
  },
  {
   "cell_type": "code",
   "execution_count": 13,
   "id": "f429d79a-4ac0-47a7-8d0f-abec74a22d5e",
   "metadata": {},
   "outputs": [],
   "source": [
    "# Create matrix for train and test data \n",
    "train_data_mat = np.zeros((u_users, u_items))\n",
    "for line in train_data.itertuples():\n",
    "    train_data_mat[line[1]-1, line[2]-1] = line[3]\n",
    "\n",
    "test_data_mat = np.zeros((u_users, u_items))\n",
    "for line in test_data.itertuples():\n",
    "    test_data_mat[line[1]-1, line[2]-1] = line[3]\n"
   ]
  },
  {
   "cell_type": "code",
   "execution_count": 37,
   "id": "e3bb8f5e-9c55-4473-8c19-48413dde37b6",
   "metadata": {},
   "outputs": [],
   "source": [
    "# Function to predict\n",
    "def predict(ratings, similarity, type='users'):\n",
    "    if type == 'user':\n",
    "        mean_user_rating = ratings.mean(axis=1)\n",
    "        ratings_diff = (ratings - mean_user_rating[:, np.newaxis])\n",
    "        pred = mean_user_rating[:, np.newaxis] + similarity.dot(ratings_diff) / np.array([np.abs(similarity).sum(axis=1)]).T\n",
    "    elif type == 'item':\n",
    "        pred = ratings.dot(similarity) / np.array([np.abs(similarity).sum(axis=1)])\n",
    "    return pred"
   ]
  },
  {
   "cell_type": "code",
   "execution_count": 51,
   "id": "fddb5662-2f53-446a-a2a8-a05e5dea6425",
   "metadata": {},
   "outputs": [],
   "source": [
    "# Create a pairwise distance \n",
    "from sklearn.metrics.pairwise import pairwise_distances\n",
    "user_sim = pairwise_distances(train_data_mat)\n",
    "item_sim = pairwise_distances(test_data_mat.T)\n"
   ]
  },
  {
   "cell_type": "code",
   "execution_count": 53,
   "id": "5f21919c-a7fb-495f-b3cc-7cd6ca8122cb",
   "metadata": {},
   "outputs": [],
   "source": [
    "# Make prediction\n",
    "item_prediction = predict(train_data_mat, item_sim, type='item')\n",
    "user_prediction = predict(train_data_mat, user_sim, type='user')"
   ]
  },
  {
   "cell_type": "code",
   "execution_count": 55,
   "id": "c65d2a5b-82aa-4687-85f5-3e2dfdff2d83",
   "metadata": {},
   "outputs": [
    {
     "data": {
      "text/plain": [
       "array([[0.46708999, 0.56561492, 0.61496081, ..., 0.96526619, 0.89738569,\n",
       "        0.96526619],\n",
       "       [0.11723986, 0.15034378, 0.16198799, ..., 0.2619014 , 0.24338501,\n",
       "        0.2619014 ],\n",
       "       [0.07329662, 0.08161624, 0.0858383 , ..., 0.12378683, 0.11566322,\n",
       "        0.12378683],\n",
       "       ...,\n",
       "       [0.03830002, 0.05770324, 0.06363132, ..., 0.11049458, 0.10202345,\n",
       "        0.11049458],\n",
       "       [0.15011185, 0.18518098, 0.20459883, ..., 0.32999329, 0.30644142,\n",
       "        0.32999329],\n",
       "       [0.27502715, 0.332717  , 0.36247297, ..., 0.58114072, 0.5390628 ,\n",
       "        0.58114072]])"
      ]
     },
     "execution_count": 55,
     "metadata": {},
     "output_type": "execute_result"
    }
   ],
   "source": [
    "item_prediction"
   ]
  },
  {
   "cell_type": "code",
   "execution_count": 57,
   "id": "57558458-95fd-4188-9e9d-3b5bc8a1c1d3",
   "metadata": {},
   "outputs": [
    {
     "data": {
      "text/plain": [
       "array([[ 1.68410834,  0.60935845,  0.48569244, ...,  0.26638512,\n",
       "         0.26413575,  0.26732531],\n",
       "       [ 1.45974163,  0.34584584,  0.16867426, ..., -0.09603985,\n",
       "        -0.09793997, -0.09316929],\n",
       "       [ 1.47754094,  0.32086273,  0.13654879, ..., -0.14534657,\n",
       "        -0.14705382, -0.14202966],\n",
       "       ...,\n",
       "       [ 1.41162247,  0.29094761,  0.1009971 , ..., -0.18248737,\n",
       "        -0.18456914, -0.17935765],\n",
       "       [ 1.47204593,  0.35243725,  0.1969458 , ..., -0.06106049,\n",
       "        -0.06306986, -0.05867416],\n",
       "       [ 1.53438475,  0.43653058,  0.30366473, ...,  0.07193197,\n",
       "         0.06967887,  0.07332149]])"
      ]
     },
     "execution_count": 57,
     "metadata": {},
     "output_type": "execute_result"
    }
   ],
   "source": [
    "user_prediction"
   ]
  },
  {
   "cell_type": "code",
   "execution_count": 63,
   "id": "ab49868b-2886-490f-9899-8a94216c6889",
   "metadata": {},
   "outputs": [
    {
     "name": "stdout",
     "output_type": "stream",
     "text": [
      "User-based cf rsme: 3.088050717474797\n",
      "Item-based cf rsme: 3.3591132693342063\n"
     ]
    }
   ],
   "source": [
    "# Evaluation of the recommendation\n",
    "from sklearn.metrics import mean_squared_error\n",
    "from math import sqrt\n",
    "\n",
    "def rsme(prediction, ground_truth):\n",
    "    prediction = prediction[ground_truth.nonzero()].flatten()\n",
    "    ground_truth = ground_truth[ground_truth.nonzero()].flatten()\n",
    "    return sqrt(mean_squared_error(prediction, ground_truth))\n",
    "\n",
    "print('User-based cf rsme: ' + str(rsme(user_prediction, test_data_mat)))\n",
    "print('Item-based cf rsme: ' + str(rsme(item_prediction, test_data_mat)))"
   ]
  },
  {
   "cell_type": "code",
   "execution_count": null,
   "id": "5f664d42-3b2f-44c9-b567-d3b2266b3d81",
   "metadata": {},
   "outputs": [],
   "source": []
  }
 ],
 "metadata": {
  "kernelspec": {
   "display_name": "Python 3 (ipykernel)",
   "language": "python",
   "name": "python3"
  },
  "language_info": {
   "codemirror_mode": {
    "name": "ipython",
    "version": 3
   },
   "file_extension": ".py",
   "mimetype": "text/x-python",
   "name": "python",
   "nbconvert_exporter": "python",
   "pygments_lexer": "ipython3",
   "version": "3.11.7"
  }
 },
 "nbformat": 4,
 "nbformat_minor": 5
}
